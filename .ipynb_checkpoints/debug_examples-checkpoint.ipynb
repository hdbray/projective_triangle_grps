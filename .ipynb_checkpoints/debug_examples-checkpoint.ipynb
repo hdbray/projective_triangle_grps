{
 "cells": [
  {
   "cell_type": "code",
   "execution_count": 1,
   "metadata": {},
   "outputs": [],
   "source": [
    "import csv\n",
    "import numpy as np\n",
    "import matplotlib.pyplot as plt\n",
    "\n",
    "from generate_matrices import *\n",
    "from triangle_grp import *"
   ]
  },
  {
   "cell_type": "code",
   "execution_count": 56,
   "metadata": {},
   "outputs": [],
   "source": [
    "\n",
    "v0=[-2,1,1] #this one is strange\n",
    "M=[[0,2,1],[0,0,-1]]\n",
    "#M=[[0,1,0],[0,0,1]]\n",
    "#M=[[1,0,0],[0,0,1]]\n",
    "r=1 # free parameter, must be positive\n",
    "c=.65450849718 # cos(pi/5)^2 # must be fixed for this example\n",
    "#\n",
    "R0=[[-1.,0.,0.],[0.,1.,0.],[2*c,0.,1.]]\n",
    "R1=[[1.,0.,0.],[0,-1.,0.],[0.,r/2.,1.]]\n",
    "R2=[[1.,0.,2.],[0,1.,2*r],[0.,0.,-1.]]\n",
    "# \n",
    "generators=[R0,R1,R2]\n",
    "#\n",
    "my_file_name = '2_3_5_tri_grp'"
   ]
  },
  {
   "cell_type": "code",
   "execution_count": 57,
   "metadata": {},
   "outputs": [],
   "source": [
    "def plot_points(list_points,this_color='red'):\n",
    "    for p in list_points:\n",
    "        plt.plot([proj(p)[0]], [proj(p)[1]], marker='o', markersize=3, color=this_color)"
   ]
  },
  {
   "cell_type": "code",
   "execution_count": 58,
   "metadata": {},
   "outputs": [
    {
     "data": {
      "image/png": "[encoded data removed]",
      "text/plain": [
       "<Figure size 432x288 with 1 Axes>"
      ]
     },
     "metadata": {
      "needs_background": "light"
     },
     "output_type": "display_data"
    }
   ],
   "source": [
    "e0=[1,0,0]\n",
    "e1=[0,1,0]\n",
    "e2=[0,0,1]\n",
    "fundamental_tri=[e0,e1,e2]\n",
    "\n",
    "n=1\n",
    "list_of_matrices=group_elts(n,generators)\n",
    "#colored_tiling(list_of_matrices,fundamental_tri, v0, M)\n",
    "\n",
    "fig = plt.figure()\n",
    "ax = fig.add_subplot()\n",
    "ax.set_aspect(\"equal\")\n",
    "\n",
    "\n",
    "colored_tiling([R0],fundamental_tri, v0, M,'blue',False)\n",
    "\n",
    "\n",
    "\n",
    "colored_tiling([R1],fundamental_tri, v0, M,'red',False)\n",
    "#colored_tiling([np.identity(3)],fundamental_tri, v0, M,'black',False)\n",
    "colored_tiling([R2],fundamental_tri, v0, M,'blue',False)\n",
    "\n",
    "e0_0=proj(e0, v0,M)[0]-.2\n",
    "e0_1=proj(e0, v0,M)[1]+.2\n",
    "e1_0=proj(e1, v0,M)[0]-.2\n",
    "e1_1=proj(e1, v0,M)[1]+.2\n",
    "e2_0=proj(e2, v0,M)[0]-.1\n",
    "e2_1=proj(e2, v0,M)[1]-.3\n",
    "plt.text(e0_0,e0_1,'e0')\n",
    "plt.text(e1_0,e1_1,'e1')\n",
    "plt.text(e2_0,e2_1,'e2')\n",
    "\n",
    "plt.show()"
   ]
  },
  {
   "cell_type": "code",
   "execution_count": null,
   "metadata": {},
   "outputs": [],
   "source": []
  }
 ],
 "metadata": {
  "kernelspec": {
   "display_name": "Python 3",
   "language": "python",
   "name": "python3"
  },
  "language_info": {
   "codemirror_mode": {
    "name": "ipython",
    "version": 3
   },
   "file_extension": ".py",
   "mimetype": "text/x-python",
   "name": "python",
   "nbconvert_exporter": "python",
   "pygments_lexer": "ipython3",
   "version": "3.7.3"
  }
 },
 "nbformat": 4,
 "nbformat_minor": 4
}
